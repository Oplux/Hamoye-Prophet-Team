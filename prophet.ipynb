{
 "cells": [
  {
   "cell_type": "markdown",
   "id": "9e6ed0cd",
   "metadata": {},
   "source": [
    "# Predicting China Scholarship additional cost"
   ]
  },
  {
   "cell_type": "code",
   "execution_count": 2,
   "id": "e22f0b37",
   "metadata": {},
   "outputs": [],
   "source": [
    "# Import libraries\n",
    "import pandas as pd\n",
    "import numpy as np\n",
    "import matplotlib.pyplot as plt\n",
    "import seaborn as sns\n",
    "import math\n",
    "from sklearn.preprocessing import LabelEncoder, MinMaxScaler\n",
    "from sklearn.metrics import mean_absolute_error\n",
    "from sklearn.model_selection import train_test_split\n",
    "\n",
    "%matplotlib inline\n",
    "import warnings\n",
    "warnings.filterwarnings('ignore')"
   ]
  },
  {
   "cell_type": "code",
   "execution_count": 2,
   "id": "871c695c",
   "metadata": {
    "scrolled": false
   },
   "outputs": [],
   "source": [
    "# We are going to read the csv file using read_csv() function\n",
    "data = pd.read_csv(r'C:\\Users\\8560W\\Desktop\\hamoye_internship\\prophet\\Hamoye-Prophet-Team-main\\data\\cleaned.csv')"
   ]
  },
  {
   "cell_type": "code",
   "execution_count": 3,
   "id": "40395bf2",
   "metadata": {},
   "outputs": [],
   "source": [
    "# We are going to rename the columns using the snake_case naming convention to improve readability\n",
    "data.columns = ['school_id', 'university', 'major', 'level', 'language', 'tuition_covered', 'accomodation_covered',\n",
    "'living_expense_covered', 'tuition_fees_to_pay', 'original_tuition_fee','start_month','start_year', 'accomodation_to_pay',\n",
    "'accomodation_duration', 'expense_to_pay', 'expense_duration']"
   ]
  },
  {
   "cell_type": "code",
   "execution_count": 4,
   "id": "78478dd0",
   "metadata": {},
   "outputs": [
    {
     "name": "stdout",
     "output_type": "stream",
     "text": [
      "<class 'pandas.core.frame.DataFrame'>\n",
      "RangeIndex: 3576 entries, 0 to 3575\n",
      "Data columns (total 16 columns):\n",
      " #   Column                  Non-Null Count  Dtype  \n",
      "---  ------                  --------------  -----  \n",
      " 0   school_id               3576 non-null   int64  \n",
      " 1   university              3576 non-null   object \n",
      " 2   major                   3576 non-null   object \n",
      " 3   level                   3576 non-null   object \n",
      " 4   language                3576 non-null   object \n",
      " 5   tuition_covered         3453 non-null   float64\n",
      " 6   accomodation_covered    3576 non-null   int64  \n",
      " 7   living_expense_covered  3576 non-null   int64  \n",
      " 8   tuition_fees_to_pay     3576 non-null   int64  \n",
      " 9   original_tuition_fee    3453 non-null   float64\n",
      " 10  start_month             3576 non-null   object \n",
      " 11  start_year              3576 non-null   int64  \n",
      " 12  accomodation_to_pay     3576 non-null   float64\n",
      " 13  accomodation_duration   3576 non-null   object \n",
      " 14  expense_to_pay          3576 non-null   float64\n",
      " 15  expense_duration        3576 non-null   object \n",
      "dtypes: float64(4), int64(5), object(7)\n",
      "memory usage: 447.1+ KB\n"
     ]
    }
   ],
   "source": [
    "# Let us view an intuitive summary of our dataframe\n",
    "data.info()"
   ]
  },
  {
   "cell_type": "code",
   "execution_count": 5,
   "id": "6cac3111",
   "metadata": {},
   "outputs": [
    {
     "data": {
      "text/html": [
       "<div>\n",
       "<style scoped>\n",
       "    .dataframe tbody tr th:only-of-type {\n",
       "        vertical-align: middle;\n",
       "    }\n",
       "\n",
       "    .dataframe tbody tr th {\n",
       "        vertical-align: top;\n",
       "    }\n",
       "\n",
       "    .dataframe thead th {\n",
       "        text-align: right;\n",
       "    }\n",
       "</style>\n",
       "<table border=\"1\" class=\"dataframe\">\n",
       "  <thead>\n",
       "    <tr style=\"text-align: right;\">\n",
       "      <th></th>\n",
       "      <th>school_id</th>\n",
       "      <th>university</th>\n",
       "      <th>major</th>\n",
       "      <th>level</th>\n",
       "      <th>language</th>\n",
       "      <th>tuition_covered</th>\n",
       "      <th>accomodation_covered</th>\n",
       "      <th>living_expense_covered</th>\n",
       "      <th>tuition_fees_to_pay</th>\n",
       "      <th>original_tuition_fee</th>\n",
       "      <th>start_month</th>\n",
       "      <th>start_year</th>\n",
       "      <th>accomodation_to_pay</th>\n",
       "      <th>accomodation_duration</th>\n",
       "      <th>expense_to_pay</th>\n",
       "      <th>expense_duration</th>\n",
       "    </tr>\n",
       "  </thead>\n",
       "  <tbody>\n",
       "    <tr>\n",
       "      <th>0</th>\n",
       "      <td>1</td>\n",
       "      <td>Shanghai University of Traditional Chinese Med...</td>\n",
       "      <td>Summer School (TCM)</td>\n",
       "      <td>Non-Degree</td>\n",
       "      <td>English</td>\n",
       "      <td>7500.0</td>\n",
       "      <td>0</td>\n",
       "      <td>0</td>\n",
       "      <td>0</td>\n",
       "      <td>7500.0</td>\n",
       "      <td>Jun</td>\n",
       "      <td>2020</td>\n",
       "      <td>9750.0</td>\n",
       "      <td>MONTH</td>\n",
       "      <td>1000.0</td>\n",
       "      <td>MONTH</td>\n",
       "    </tr>\n",
       "    <tr>\n",
       "      <th>1</th>\n",
       "      <td>2</td>\n",
       "      <td>Changchun University of Science and Technology</td>\n",
       "      <td>Preparatory Program of Humanities Direction(Pa...</td>\n",
       "      <td>Non-Degree</td>\n",
       "      <td>Chinese</td>\n",
       "      <td>10000.0</td>\n",
       "      <td>0</td>\n",
       "      <td>0</td>\n",
       "      <td>10000</td>\n",
       "      <td>20000.0</td>\n",
       "      <td>Sep</td>\n",
       "      <td>2019</td>\n",
       "      <td>1500.0</td>\n",
       "      <td>MONTH</td>\n",
       "      <td>1500.0</td>\n",
       "      <td>MONTH</td>\n",
       "    </tr>\n",
       "    <tr>\n",
       "      <th>2</th>\n",
       "      <td>3</td>\n",
       "      <td>Changchun University of Science and Technology</td>\n",
       "      <td>Preparatory Program of Business Direction(Path A)</td>\n",
       "      <td>Non-Degree</td>\n",
       "      <td>Chinese</td>\n",
       "      <td>10000.0</td>\n",
       "      <td>0</td>\n",
       "      <td>0</td>\n",
       "      <td>10000</td>\n",
       "      <td>20000.0</td>\n",
       "      <td>Sep</td>\n",
       "      <td>2019</td>\n",
       "      <td>1500.0</td>\n",
       "      <td>MONTH</td>\n",
       "      <td>1500.0</td>\n",
       "      <td>MONTH</td>\n",
       "    </tr>\n",
       "    <tr>\n",
       "      <th>3</th>\n",
       "      <td>4</td>\n",
       "      <td>Changchun University of Science and Technology</td>\n",
       "      <td>Preparatory Program of Science and Engineering...</td>\n",
       "      <td>Non-Degree</td>\n",
       "      <td>Chinese</td>\n",
       "      <td>10000.0</td>\n",
       "      <td>0</td>\n",
       "      <td>0</td>\n",
       "      <td>10000</td>\n",
       "      <td>20000.0</td>\n",
       "      <td>Sep</td>\n",
       "      <td>2019</td>\n",
       "      <td>1500.0</td>\n",
       "      <td>MONTH</td>\n",
       "      <td>1500.0</td>\n",
       "      <td>MONTH</td>\n",
       "    </tr>\n",
       "    <tr>\n",
       "      <th>4</th>\n",
       "      <td>5</td>\n",
       "      <td>Qingdao University</td>\n",
       "      <td>Long-term Chinese Language Program</td>\n",
       "      <td>Non-Degree</td>\n",
       "      <td>Chinese</td>\n",
       "      <td>7000.0</td>\n",
       "      <td>1</td>\n",
       "      <td>1</td>\n",
       "      <td>0</td>\n",
       "      <td>7000.0</td>\n",
       "      <td>Sep</td>\n",
       "      <td>2019</td>\n",
       "      <td>0.0</td>\n",
       "      <td>YEAR</td>\n",
       "      <td>0.0</td>\n",
       "      <td>MONTH</td>\n",
       "    </tr>\n",
       "  </tbody>\n",
       "</table>\n",
       "</div>"
      ],
      "text/plain": [
       "   school_id                                         university  \\\n",
       "0          1  Shanghai University of Traditional Chinese Med...   \n",
       "1          2     Changchun University of Science and Technology   \n",
       "2          3     Changchun University of Science and Technology   \n",
       "3          4     Changchun University of Science and Technology   \n",
       "4          5                                 Qingdao University   \n",
       "\n",
       "                                               major       level language  \\\n",
       "0                                Summer School (TCM)  Non-Degree  English   \n",
       "1  Preparatory Program of Humanities Direction(Pa...  Non-Degree  Chinese   \n",
       "2  Preparatory Program of Business Direction(Path A)  Non-Degree  Chinese   \n",
       "3  Preparatory Program of Science and Engineering...  Non-Degree  Chinese   \n",
       "4                 Long-term Chinese Language Program  Non-Degree  Chinese   \n",
       "\n",
       "   tuition_covered  accomodation_covered  living_expense_covered  \\\n",
       "0           7500.0                     0                       0   \n",
       "1          10000.0                     0                       0   \n",
       "2          10000.0                     0                       0   \n",
       "3          10000.0                     0                       0   \n",
       "4           7000.0                     1                       1   \n",
       "\n",
       "   tuition_fees_to_pay  original_tuition_fee start_month  start_year  \\\n",
       "0                    0                7500.0         Jun        2020   \n",
       "1                10000               20000.0         Sep        2019   \n",
       "2                10000               20000.0         Sep        2019   \n",
       "3                10000               20000.0         Sep        2019   \n",
       "4                    0                7000.0         Sep        2019   \n",
       "\n",
       "   accomodation_to_pay accomodation_duration  expense_to_pay expense_duration  \n",
       "0               9750.0                 MONTH          1000.0            MONTH  \n",
       "1               1500.0                 MONTH          1500.0            MONTH  \n",
       "2               1500.0                 MONTH          1500.0            MONTH  \n",
       "3               1500.0                 MONTH          1500.0            MONTH  \n",
       "4                  0.0                  YEAR             0.0            MONTH  "
      ]
     },
     "execution_count": 5,
     "metadata": {},
     "output_type": "execute_result"
    }
   ],
   "source": [
    "# Now let us see a preview of the data by looking at the first 5 rows \n",
    "data.head()"
   ]
  },
  {
   "cell_type": "code",
   "execution_count": 6,
   "id": "ab243f14",
   "metadata": {},
   "outputs": [
    {
     "data": {
      "text/html": [
       "<div>\n",
       "<style scoped>\n",
       "    .dataframe tbody tr th:only-of-type {\n",
       "        vertical-align: middle;\n",
       "    }\n",
       "\n",
       "    .dataframe tbody tr th {\n",
       "        vertical-align: top;\n",
       "    }\n",
       "\n",
       "    .dataframe thead th {\n",
       "        text-align: right;\n",
       "    }\n",
       "</style>\n",
       "<table border=\"1\" class=\"dataframe\">\n",
       "  <thead>\n",
       "    <tr style=\"text-align: right;\">\n",
       "      <th></th>\n",
       "      <th>school_id</th>\n",
       "      <th>university</th>\n",
       "      <th>major</th>\n",
       "      <th>level</th>\n",
       "      <th>language</th>\n",
       "      <th>tuition_covered</th>\n",
       "      <th>accomodation_covered</th>\n",
       "      <th>living_expense_covered</th>\n",
       "      <th>tuition_fees_to_pay</th>\n",
       "      <th>original_tuition_fee</th>\n",
       "      <th>start_month</th>\n",
       "      <th>start_year</th>\n",
       "      <th>accomodation_to_pay</th>\n",
       "      <th>accomodation_duration</th>\n",
       "      <th>expense_to_pay</th>\n",
       "      <th>expense_duration</th>\n",
       "    </tr>\n",
       "  </thead>\n",
       "  <tbody>\n",
       "    <tr>\n",
       "      <th>3571</th>\n",
       "      <td>3601</td>\n",
       "      <td>East China University of Science and Technology</td>\n",
       "      <td>Environmental Science and Engineering</td>\n",
       "      <td>Phd</td>\n",
       "      <td>English</td>\n",
       "      <td>38950.0</td>\n",
       "      <td>1</td>\n",
       "      <td>1</td>\n",
       "      <td>0</td>\n",
       "      <td>38950.0</td>\n",
       "      <td>Sep</td>\n",
       "      <td>2019</td>\n",
       "      <td>0.0</td>\n",
       "      <td>YEAR</td>\n",
       "      <td>0.0</td>\n",
       "      <td>MONTH</td>\n",
       "    </tr>\n",
       "    <tr>\n",
       "      <th>3572</th>\n",
       "      <td>3602</td>\n",
       "      <td>East China University of Science and Technology</td>\n",
       "      <td>Power Engineering and Engineering Thermophysics</td>\n",
       "      <td>Phd</td>\n",
       "      <td>English</td>\n",
       "      <td>38950.0</td>\n",
       "      <td>1</td>\n",
       "      <td>1</td>\n",
       "      <td>0</td>\n",
       "      <td>38950.0</td>\n",
       "      <td>Sep</td>\n",
       "      <td>2019</td>\n",
       "      <td>0.0</td>\n",
       "      <td>YEAR</td>\n",
       "      <td>0.0</td>\n",
       "      <td>MONTH</td>\n",
       "    </tr>\n",
       "    <tr>\n",
       "      <th>3573</th>\n",
       "      <td>3603</td>\n",
       "      <td>East China University of Science and Technology</td>\n",
       "      <td>Thermal Engineering</td>\n",
       "      <td>Phd</td>\n",
       "      <td>English</td>\n",
       "      <td>38950.0</td>\n",
       "      <td>1</td>\n",
       "      <td>1</td>\n",
       "      <td>0</td>\n",
       "      <td>38950.0</td>\n",
       "      <td>Sep</td>\n",
       "      <td>2019</td>\n",
       "      <td>0.0</td>\n",
       "      <td>YEAR</td>\n",
       "      <td>0.0</td>\n",
       "      <td>MONTH</td>\n",
       "    </tr>\n",
       "    <tr>\n",
       "      <th>3574</th>\n",
       "      <td>3604</td>\n",
       "      <td>East China University of Science and Technology</td>\n",
       "      <td>Synthesis of Fine Chemical and Molecular</td>\n",
       "      <td>Phd</td>\n",
       "      <td>English</td>\n",
       "      <td>38950.0</td>\n",
       "      <td>1</td>\n",
       "      <td>1</td>\n",
       "      <td>0</td>\n",
       "      <td>38950.0</td>\n",
       "      <td>Sep</td>\n",
       "      <td>2019</td>\n",
       "      <td>0.0</td>\n",
       "      <td>YEAR</td>\n",
       "      <td>0.0</td>\n",
       "      <td>MONTH</td>\n",
       "    </tr>\n",
       "    <tr>\n",
       "      <th>3575</th>\n",
       "      <td>3605</td>\n",
       "      <td>East China University of Science and Technology</td>\n",
       "      <td>Sociology of Law</td>\n",
       "      <td>Phd</td>\n",
       "      <td>English</td>\n",
       "      <td>38950.0</td>\n",
       "      <td>1</td>\n",
       "      <td>1</td>\n",
       "      <td>0</td>\n",
       "      <td>38950.0</td>\n",
       "      <td>Sep</td>\n",
       "      <td>2019</td>\n",
       "      <td>0.0</td>\n",
       "      <td>YEAR</td>\n",
       "      <td>0.0</td>\n",
       "      <td>MONTH</td>\n",
       "    </tr>\n",
       "  </tbody>\n",
       "</table>\n",
       "</div>"
      ],
      "text/plain": [
       "      school_id                                       university  \\\n",
       "3571       3601  East China University of Science and Technology   \n",
       "3572       3602  East China University of Science and Technology   \n",
       "3573       3603  East China University of Science and Technology   \n",
       "3574       3604  East China University of Science and Technology   \n",
       "3575       3605  East China University of Science and Technology   \n",
       "\n",
       "                                                major level language  \\\n",
       "3571            Environmental Science and Engineering   Phd  English   \n",
       "3572  Power Engineering and Engineering Thermophysics   Phd  English   \n",
       "3573                              Thermal Engineering   Phd  English   \n",
       "3574         Synthesis of Fine Chemical and Molecular   Phd  English   \n",
       "3575                                 Sociology of Law   Phd  English   \n",
       "\n",
       "      tuition_covered  accomodation_covered  living_expense_covered  \\\n",
       "3571          38950.0                     1                       1   \n",
       "3572          38950.0                     1                       1   \n",
       "3573          38950.0                     1                       1   \n",
       "3574          38950.0                     1                       1   \n",
       "3575          38950.0                     1                       1   \n",
       "\n",
       "      tuition_fees_to_pay  original_tuition_fee start_month  start_year  \\\n",
       "3571                    0               38950.0         Sep        2019   \n",
       "3572                    0               38950.0         Sep        2019   \n",
       "3573                    0               38950.0         Sep        2019   \n",
       "3574                    0               38950.0         Sep        2019   \n",
       "3575                    0               38950.0         Sep        2019   \n",
       "\n",
       "      accomodation_to_pay accomodation_duration  expense_to_pay  \\\n",
       "3571                  0.0                  YEAR             0.0   \n",
       "3572                  0.0                  YEAR             0.0   \n",
       "3573                  0.0                  YEAR             0.0   \n",
       "3574                  0.0                  YEAR             0.0   \n",
       "3575                  0.0                  YEAR             0.0   \n",
       "\n",
       "     expense_duration  \n",
       "3571            MONTH  \n",
       "3572            MONTH  \n",
       "3573            MONTH  \n",
       "3574            MONTH  \n",
       "3575            MONTH  "
      ]
     },
     "execution_count": 6,
     "metadata": {},
     "output_type": "execute_result"
    }
   ],
   "source": [
    "# Let us also look at the last 5 rows of the dataframe\n",
    "data.tail()"
   ]
  },
  {
   "cell_type": "code",
   "execution_count": 7,
   "id": "93604211",
   "metadata": {},
   "outputs": [
    {
     "data": {
      "text/plain": [
       "school_id                   0\n",
       "university                  0\n",
       "major                       0\n",
       "level                       0\n",
       "language                    0\n",
       "tuition_covered           123\n",
       "accomodation_covered        0\n",
       "living_expense_covered      0\n",
       "tuition_fees_to_pay         0\n",
       "original_tuition_fee      123\n",
       "start_month                 0\n",
       "start_year                  0\n",
       "accomodation_to_pay         0\n",
       "accomodation_duration       0\n",
       "expense_to_pay              0\n",
       "expense_duration            0\n",
       "dtype: int64"
      ]
     },
     "execution_count": 7,
     "metadata": {},
     "output_type": "execute_result"
    }
   ],
   "source": [
    "# Let us see how many null values present in the columns \n",
    "data.isna().sum()"
   ]
  },
  {
   "cell_type": "code",
   "execution_count": 44,
   "id": "8273c101",
   "metadata": {},
   "outputs": [
    {
     "data": {
      "text/html": [
       "<div>\n",
       "<style scoped>\n",
       "    .dataframe tbody tr th:only-of-type {\n",
       "        vertical-align: middle;\n",
       "    }\n",
       "\n",
       "    .dataframe tbody tr th {\n",
       "        vertical-align: top;\n",
       "    }\n",
       "\n",
       "    .dataframe thead th {\n",
       "        text-align: right;\n",
       "    }\n",
       "</style>\n",
       "<table border=\"1\" class=\"dataframe\">\n",
       "  <thead>\n",
       "    <tr style=\"text-align: right;\">\n",
       "      <th></th>\n",
       "      <th>school_id</th>\n",
       "      <th>university</th>\n",
       "      <th>major</th>\n",
       "      <th>level</th>\n",
       "      <th>language</th>\n",
       "      <th>tuition_covered</th>\n",
       "      <th>accomodation_covered</th>\n",
       "      <th>living_expense_covered</th>\n",
       "      <th>tuition_fees_to_pay</th>\n",
       "      <th>original_tuition_fee</th>\n",
       "      <th>start_month</th>\n",
       "      <th>start_year</th>\n",
       "      <th>accomodation_to_pay</th>\n",
       "      <th>accomodation_duration</th>\n",
       "      <th>expense_to_pay</th>\n",
       "      <th>expense_duration</th>\n",
       "    </tr>\n",
       "  </thead>\n",
       "  <tbody>\n",
       "    <tr>\n",
       "      <th>0</th>\n",
       "      <td>1</td>\n",
       "      <td>Shanghai University of Traditional Chinese Med...</td>\n",
       "      <td>Summer School (TCM)</td>\n",
       "      <td>Non-Degree</td>\n",
       "      <td>English</td>\n",
       "      <td>7500.0</td>\n",
       "      <td>0</td>\n",
       "      <td>0</td>\n",
       "      <td>0</td>\n",
       "      <td>7500.0</td>\n",
       "      <td>Jun</td>\n",
       "      <td>2020</td>\n",
       "      <td>9750.0</td>\n",
       "      <td>MONTH</td>\n",
       "      <td>1000.0</td>\n",
       "      <td>MONTH</td>\n",
       "    </tr>\n",
       "    <tr>\n",
       "      <th>1</th>\n",
       "      <td>2</td>\n",
       "      <td>Changchun University of Science and Technology</td>\n",
       "      <td>Preparatory Program of Humanities Direction(Pa...</td>\n",
       "      <td>Non-Degree</td>\n",
       "      <td>Chinese</td>\n",
       "      <td>10000.0</td>\n",
       "      <td>0</td>\n",
       "      <td>0</td>\n",
       "      <td>10000</td>\n",
       "      <td>20000.0</td>\n",
       "      <td>Sep</td>\n",
       "      <td>2019</td>\n",
       "      <td>1500.0</td>\n",
       "      <td>MONTH</td>\n",
       "      <td>1500.0</td>\n",
       "      <td>MONTH</td>\n",
       "    </tr>\n",
       "    <tr>\n",
       "      <th>2</th>\n",
       "      <td>3</td>\n",
       "      <td>Changchun University of Science and Technology</td>\n",
       "      <td>Preparatory Program of Business Direction(Path A)</td>\n",
       "      <td>Non-Degree</td>\n",
       "      <td>Chinese</td>\n",
       "      <td>10000.0</td>\n",
       "      <td>0</td>\n",
       "      <td>0</td>\n",
       "      <td>10000</td>\n",
       "      <td>20000.0</td>\n",
       "      <td>Sep</td>\n",
       "      <td>2019</td>\n",
       "      <td>1500.0</td>\n",
       "      <td>MONTH</td>\n",
       "      <td>1500.0</td>\n",
       "      <td>MONTH</td>\n",
       "    </tr>\n",
       "  </tbody>\n",
       "</table>\n",
       "</div>"
      ],
      "text/plain": [
       "   school_id                                         university  \\\n",
       "0          1  Shanghai University of Traditional Chinese Med...   \n",
       "1          2     Changchun University of Science and Technology   \n",
       "2          3     Changchun University of Science and Technology   \n",
       "\n",
       "                                               major       level language  \\\n",
       "0                                Summer School (TCM)  Non-Degree  English   \n",
       "1  Preparatory Program of Humanities Direction(Pa...  Non-Degree  Chinese   \n",
       "2  Preparatory Program of Business Direction(Path A)  Non-Degree  Chinese   \n",
       "\n",
       "   tuition_covered  accomodation_covered  living_expense_covered  \\\n",
       "0           7500.0                     0                       0   \n",
       "1          10000.0                     0                       0   \n",
       "2          10000.0                     0                       0   \n",
       "\n",
       "   tuition_fees_to_pay  original_tuition_fee start_month  start_year  \\\n",
       "0                    0                7500.0         Jun        2020   \n",
       "1                10000               20000.0         Sep        2019   \n",
       "2                10000               20000.0         Sep        2019   \n",
       "\n",
       "   accomodation_to_pay accomodation_duration  expense_to_pay expense_duration  \n",
       "0               9750.0                 MONTH          1000.0            MONTH  \n",
       "1               1500.0                 MONTH          1500.0            MONTH  \n",
       "2               1500.0                 MONTH          1500.0            MONTH  "
      ]
     },
     "execution_count": 44,
     "metadata": {},
     "output_type": "execute_result"
    }
   ],
   "source": [
    "data1 = data.fillna({'tuition_covered':data['tuition_covered'].mean(),'original_tuition_fee':data['original_tuition_fee'].mean()})\n",
    "data1.head(3)"
   ]
  },
  {
   "cell_type": "code",
   "execution_count": 46,
   "id": "8b8c67a4",
   "metadata": {
    "scrolled": true
   },
   "outputs": [
    {
     "data": {
      "text/plain": [
       "0    2743\n",
       "1     833\n",
       "Name: accomodation_covered, dtype: int64"
      ]
     },
     "execution_count": 46,
     "metadata": {},
     "output_type": "execute_result"
    }
   ],
   "source": [
    "data1.accomodation_covered.value_counts()"
   ]
  },
  {
   "cell_type": "code",
   "execution_count": 84,
   "id": "c50fbe78",
   "metadata": {},
   "outputs": [
    {
     "data": {
      "text/plain": [
       "0    2678\n",
       "1     898\n",
       "Name: living_expense_covered, dtype: int64"
      ]
     },
     "execution_count": 84,
     "metadata": {},
     "output_type": "execute_result"
    }
   ],
   "source": [
    "data1.living_expense_covered.value_counts()"
   ]
  },
  {
   "cell_type": "code",
   "execution_count": 92,
   "id": "01cc4b5f",
   "metadata": {},
   "outputs": [],
   "source": [
    "\n",
    "accomodation_covered=data1.groupby('accomodation_covered')['university'].value_counts()"
   ]
  },
  {
   "cell_type": "code",
   "execution_count": 95,
   "id": "b0032391",
   "metadata": {},
   "outputs": [
    {
     "data": {
      "text/plain": [
       "47"
      ]
     },
     "execution_count": 95,
     "metadata": {},
     "output_type": "execute_result"
    }
   ],
   "source": [
    "accomodation_covered[0].count()"
   ]
  },
  {
   "cell_type": "code",
   "execution_count": 96,
   "id": "11523a7e",
   "metadata": {
    "scrolled": true
   },
   "outputs": [
    {
     "data": {
      "text/plain": [
       "21"
      ]
     },
     "execution_count": 96,
     "metadata": {},
     "output_type": "execute_result"
    }
   ],
   "source": [
    "accomodation_covered[1].count()"
   ]
  },
  {
   "cell_type": "code",
   "execution_count": null,
   "id": "ac0b8066",
   "metadata": {
    "scrolled": true
   },
   "outputs": [],
   "source": []
  },
  {
   "cell_type": "code",
   "execution_count": 9,
   "id": "f31d5423",
   "metadata": {},
   "outputs": [
    {
     "data": {
      "text/plain": [
       "0"
      ]
     },
     "execution_count": 9,
     "metadata": {},
     "output_type": "execute_result"
    }
   ],
   "source": [
    "data1.isnull().sum().sum()"
   ]
  },
  {
   "cell_type": "code",
   "execution_count": 10,
   "id": "784627f9",
   "metadata": {},
   "outputs": [
    {
     "data": {
      "text/plain": [
       "school_id                   int64\n",
       "university                 object\n",
       "major                      object\n",
       "level                      object\n",
       "language                   object\n",
       "tuition_covered           float64\n",
       "accomodation_covered        int64\n",
       "living_expense_covered      int64\n",
       "tuition_fees_to_pay         int64\n",
       "original_tuition_fee      float64\n",
       "start_month                object\n",
       "start_year                  int64\n",
       "accomodation_to_pay       float64\n",
       "accomodation_duration      object\n",
       "expense_to_pay            float64\n",
       "expense_duration           object\n",
       "dtype: object"
      ]
     },
     "execution_count": 10,
     "metadata": {},
     "output_type": "execute_result"
    }
   ],
   "source": [
    "data1.dtypes"
   ]
  },
  {
   "cell_type": "code",
   "execution_count": 41,
   "id": "35d355dc",
   "metadata": {},
   "outputs": [],
   "source": [
    "data1 = data.drop(['school_id'],axis = 1)\n"
   ]
  },
  {
   "cell_type": "code",
   "execution_count": 100,
   "id": "cc30fd4a",
   "metadata": {
    "scrolled": true
   },
   "outputs": [
    {
     "data": {
      "text/plain": [
       "53"
      ]
     },
     "execution_count": 100,
     "metadata": {},
     "output_type": "execute_result"
    }
   ],
   "source": [
    "len(data1.university.value_counts())"
   ]
  },
  {
   "cell_type": "code",
   "execution_count": 12,
   "id": "8442c88d",
   "metadata": {},
   "outputs": [
    {
     "data": {
      "text/html": [
       "<div>\n",
       "<style scoped>\n",
       "    .dataframe tbody tr th:only-of-type {\n",
       "        vertical-align: middle;\n",
       "    }\n",
       "\n",
       "    .dataframe tbody tr th {\n",
       "        vertical-align: top;\n",
       "    }\n",
       "\n",
       "    .dataframe thead th {\n",
       "        text-align: right;\n",
       "    }\n",
       "</style>\n",
       "<table border=\"1\" class=\"dataframe\">\n",
       "  <thead>\n",
       "    <tr style=\"text-align: right;\">\n",
       "      <th></th>\n",
       "      <th>tuition_covered</th>\n",
       "      <th>tuition_fees_to_pay</th>\n",
       "      <th>original_tuition_fee</th>\n",
       "      <th>accomodation_to_pay</th>\n",
       "      <th>expense_to_pay</th>\n",
       "    </tr>\n",
       "  </thead>\n",
       "  <tbody>\n",
       "    <tr>\n",
       "      <th>0</th>\n",
       "      <td>7500.0</td>\n",
       "      <td>0</td>\n",
       "      <td>7500.0</td>\n",
       "      <td>9750.0</td>\n",
       "      <td>1000.0</td>\n",
       "    </tr>\n",
       "    <tr>\n",
       "      <th>1</th>\n",
       "      <td>10000.0</td>\n",
       "      <td>10000</td>\n",
       "      <td>20000.0</td>\n",
       "      <td>1500.0</td>\n",
       "      <td>1500.0</td>\n",
       "    </tr>\n",
       "    <tr>\n",
       "      <th>2</th>\n",
       "      <td>10000.0</td>\n",
       "      <td>10000</td>\n",
       "      <td>20000.0</td>\n",
       "      <td>1500.0</td>\n",
       "      <td>1500.0</td>\n",
       "    </tr>\n",
       "  </tbody>\n",
       "</table>\n",
       "</div>"
      ],
      "text/plain": [
       "   tuition_covered  tuition_fees_to_pay  original_tuition_fee  \\\n",
       "0           7500.0                    0                7500.0   \n",
       "1          10000.0                10000               20000.0   \n",
       "2          10000.0                10000               20000.0   \n",
       "\n",
       "   accomodation_to_pay  expense_to_pay  \n",
       "0               9750.0          1000.0  \n",
       "1               1500.0          1500.0  \n",
       "2               1500.0          1500.0  "
      ]
     },
     "execution_count": 12,
     "metadata": {},
     "output_type": "execute_result"
    }
   ],
   "source": [
    "num_data=data[['tuition_covered', 'tuition_fees_to_pay', 'original_tuition_fee', 'accomodation_to_pay', 'expense_to_pay']]\n",
    "num_data.head(3)"
   ]
  },
  {
   "cell_type": "code",
   "execution_count": 13,
   "id": "6e4650bd",
   "metadata": {},
   "outputs": [],
   "source": [
    "corr = num_data.corr()"
   ]
  },
  {
   "cell_type": "code",
   "execution_count": 14,
   "id": "bc152be5",
   "metadata": {},
   "outputs": [
    {
     "data": {
      "text/plain": [
       "<AxesSubplot:>"
      ]
     },
     "execution_count": 14,
     "metadata": {},
     "output_type": "execute_result"
    },
    {
     "data": {
      "image/png": "[encoded data removed]",
      "text/plain": [
       "<Figure size 432x288 with 2 Axes>"
      ]
     },
     "metadata": {
      "needs_background": "light"
     },
     "output_type": "display_data"
    }
   ],
   "source": [
    "sns.heatmap(corr,annot=True)"
   ]
  },
  {
   "cell_type": "code",
   "execution_count": 43,
   "id": "5f196059",
   "metadata": {},
   "outputs": [
    {
     "data": {
      "text/plain": [
       "<seaborn.axisgrid.PairGrid at 0x2321fe5c4c0>"
      ]
     },
     "execution_count": 43,
     "metadata": {},
     "output_type": "execute_result"
    },
    {
     "data": {
      "image/png": "[encoded data removed]",
      "text/plain": [
       "<Figure size 900x900 with 30 Axes>"
      ]
     },
     "metadata": {},
     "output_type": "display_data"
    }
   ],
   "source": [
    "sns.pairplot(num_data)"
   ]
  },
  {
   "cell_type": "code",
   "execution_count": 15,
   "id": "35ea6e3a",
   "metadata": {
    "scrolled": true
   },
   "outputs": [
    {
     "data": {
      "text/html": [
       "<div>\n",
       "<style scoped>\n",
       "    .dataframe tbody tr th:only-of-type {\n",
       "        vertical-align: middle;\n",
       "    }\n",
       "\n",
       "    .dataframe tbody tr th {\n",
       "        vertical-align: top;\n",
       "    }\n",
       "\n",
       "    .dataframe thead th {\n",
       "        text-align: right;\n",
       "    }\n",
       "</style>\n",
       "<table border=\"1\" class=\"dataframe\">\n",
       "  <thead>\n",
       "    <tr style=\"text-align: right;\">\n",
       "      <th></th>\n",
       "      <th>count</th>\n",
       "      <th>mean</th>\n",
       "      <th>std</th>\n",
       "      <th>min</th>\n",
       "      <th>25%</th>\n",
       "      <th>50%</th>\n",
       "      <th>75%</th>\n",
       "      <th>max</th>\n",
       "    </tr>\n",
       "  </thead>\n",
       "  <tbody>\n",
       "    <tr>\n",
       "      <th>tuition_covered</th>\n",
       "      <td>3453.0</td>\n",
       "      <td>20531.704315</td>\n",
       "      <td>12428.124918</td>\n",
       "      <td>0.0</td>\n",
       "      <td>10625.0</td>\n",
       "      <td>20000.0</td>\n",
       "      <td>26500.0</td>\n",
       "      <td>80000.0</td>\n",
       "    </tr>\n",
       "    <tr>\n",
       "      <th>tuition_fees_to_pay</th>\n",
       "      <td>3576.0</td>\n",
       "      <td>8433.516499</td>\n",
       "      <td>9519.340675</td>\n",
       "      <td>0.0</td>\n",
       "      <td>0.0</td>\n",
       "      <td>6000.0</td>\n",
       "      <td>11000.0</td>\n",
       "      <td>69000.0</td>\n",
       "    </tr>\n",
       "    <tr>\n",
       "      <th>original_tuition_fee</th>\n",
       "      <td>3453.0</td>\n",
       "      <td>28693.955980</td>\n",
       "      <td>15341.450293</td>\n",
       "      <td>0.0</td>\n",
       "      <td>20000.0</td>\n",
       "      <td>26500.0</td>\n",
       "      <td>34000.0</td>\n",
       "      <td>148000.0</td>\n",
       "    </tr>\n",
       "    <tr>\n",
       "      <th>accomodation_to_pay</th>\n",
       "      <td>3576.0</td>\n",
       "      <td>1376.461969</td>\n",
       "      <td>2802.526970</td>\n",
       "      <td>0.0</td>\n",
       "      <td>400.0</td>\n",
       "      <td>900.0</td>\n",
       "      <td>1200.0</td>\n",
       "      <td>24000.0</td>\n",
       "    </tr>\n",
       "    <tr>\n",
       "      <th>expense_to_pay</th>\n",
       "      <td>3576.0</td>\n",
       "      <td>1070.987136</td>\n",
       "      <td>601.297528</td>\n",
       "      <td>0.0</td>\n",
       "      <td>1000.0</td>\n",
       "      <td>1000.0</td>\n",
       "      <td>1500.0</td>\n",
       "      <td>2700.0</td>\n",
       "    </tr>\n",
       "  </tbody>\n",
       "</table>\n",
       "</div>"
      ],
      "text/plain": [
       "                       count          mean           std  min      25%  \\\n",
       "tuition_covered       3453.0  20531.704315  12428.124918  0.0  10625.0   \n",
       "tuition_fees_to_pay   3576.0   8433.516499   9519.340675  0.0      0.0   \n",
       "original_tuition_fee  3453.0  28693.955980  15341.450293  0.0  20000.0   \n",
       "accomodation_to_pay   3576.0   1376.461969   2802.526970  0.0    400.0   \n",
       "expense_to_pay        3576.0   1070.987136    601.297528  0.0   1000.0   \n",
       "\n",
       "                          50%      75%       max  \n",
       "tuition_covered       20000.0  26500.0   80000.0  \n",
       "tuition_fees_to_pay    6000.0  11000.0   69000.0  \n",
       "original_tuition_fee  26500.0  34000.0  148000.0  \n",
       "accomodation_to_pay     900.0   1200.0   24000.0  \n",
       "expense_to_pay         1000.0   1500.0    2700.0  "
      ]
     },
     "execution_count": 15,
     "metadata": {},
     "output_type": "execute_result"
    }
   ],
   "source": [
    "# Let us view the descriptive statistics of the dataframe. Note that this can only be applied to numerical values \n",
    "data[['tuition_covered', 'tuition_fees_to_pay', 'original_tuition_fee', 'accomodation_to_pay', 'expense_to_pay']].describe().T"
   ]
  },
  {
   "cell_type": "code",
   "execution_count": 16,
   "id": "b0dd7caf",
   "metadata": {},
   "outputs": [
    {
     "name": "stdout",
     "output_type": "stream",
     "text": [
      "220\n",
      "1007\n",
      "42\n",
      "437\n",
      "561\n"
     ]
    }
   ],
   "source": [
    "# Notice that the min values for all the selected columns are 0\n",
    "# Let us see how many 'O' values these columns have \n",
    "\n",
    "print(len(data[data['tuition_covered'] == 0]))\n",
    "print(len(data[data['tuition_fees_to_pay'] == 0]))\n",
    "print(len(data[data['original_tuition_fee'] == 0]))\n",
    "print(len(data[data['accomodation_to_pay'] == 0]))\n",
    "print(len(data[data['expense_to_pay'] == 0]))"
   ]
  },
  {
   "cell_type": "code",
   "execution_count": 17,
   "id": "47461268",
   "metadata": {},
   "outputs": [],
   "source": [
    "# Let us define the predictor columns and the target column \n",
    "# X is the predictor\n",
    "# y is the target variable\n",
    "X = data.drop(['tuition_fees_to_pay'], axis = 1)\n",
    "y = data['tuition_fees_to_pay']"
   ]
  },
  {
   "cell_type": "code",
   "execution_count": 18,
   "id": "78083900",
   "metadata": {},
   "outputs": [
    {
     "name": "stdout",
     "output_type": "stream",
     "text": [
      "['university', 'major', 'level', 'language', 'start_month', 'accomodation_duration', 'expense_duration']\n",
      "['school_id', 'tuition_covered', 'accomodation_covered', 'living_expense_covered', 'original_tuition_fee', 'start_year', 'accomodation_to_pay', 'expense_to_pay']\n"
     ]
    }
   ],
   "source": [
    "# Here we are differentiating between the columns that are objects and the ones that are not\n",
    "obj_cols = list(X.select_dtypes(include = 'object').columns)\n",
    "num_cols = list(X.select_dtypes(exclude = 'object').columns)\n",
    "print(obj_cols)\n",
    "print(num_cols)"
   ]
  },
  {
   "cell_type": "code",
   "execution_count": 19,
   "id": "ecce79b5",
   "metadata": {},
   "outputs": [
    {
     "data": {
      "text/plain": [
       "school_id                 0\n",
       "university                0\n",
       "major                     0\n",
       "level                     0\n",
       "language                  0\n",
       "tuition_covered           0\n",
       "accomodation_covered      0\n",
       "living_expense_covered    0\n",
       "original_tuition_fee      0\n",
       "start_month               0\n",
       "start_year                0\n",
       "accomodation_to_pay       0\n",
       "accomodation_duration     0\n",
       "expense_to_pay            0\n",
       "expense_duration          0\n",
       "dtype: int64"
      ]
     },
     "execution_count": 19,
     "metadata": {},
     "output_type": "execute_result"
    }
   ],
   "source": [
    "# Now we are going to fill the empty points with mean of the values in the column \n",
    "null = ['tuition_covered', 'original_tuition_fee']\n",
    "for col in null:\n",
    "    X[col] = X[col].fillna(X[col].mean())\n",
    "X.isna().sum()"
   ]
  },
  {
   "cell_type": "code",
   "execution_count": 20,
   "id": "66779198",
   "metadata": {
    "scrolled": true
   },
   "outputs": [
    {
     "data": {
      "text/html": [
       "<div>\n",
       "<style scoped>\n",
       "    .dataframe tbody tr th:only-of-type {\n",
       "        vertical-align: middle;\n",
       "    }\n",
       "\n",
       "    .dataframe tbody tr th {\n",
       "        vertical-align: top;\n",
       "    }\n",
       "\n",
       "    .dataframe thead th {\n",
       "        text-align: right;\n",
       "    }\n",
       "</style>\n",
       "<table border=\"1\" class=\"dataframe\">\n",
       "  <thead>\n",
       "    <tr style=\"text-align: right;\">\n",
       "      <th></th>\n",
       "      <th>university</th>\n",
       "      <th>major</th>\n",
       "      <th>level</th>\n",
       "      <th>language</th>\n",
       "      <th>tuition_covered</th>\n",
       "      <th>accomodation_covered</th>\n",
       "      <th>living_expense_covered</th>\n",
       "      <th>original_tuition_fee</th>\n",
       "      <th>start_month</th>\n",
       "      <th>start_year</th>\n",
       "      <th>accomodation_to_pay</th>\n",
       "      <th>accomodation_duration</th>\n",
       "      <th>expense_to_pay</th>\n",
       "      <th>expense_duration</th>\n",
       "    </tr>\n",
       "  </thead>\n",
       "  <tbody>\n",
       "    <tr>\n",
       "      <th>0</th>\n",
       "      <td>33</td>\n",
       "      <td>1135</td>\n",
       "      <td>2</td>\n",
       "      <td>1</td>\n",
       "      <td>7500.0</td>\n",
       "      <td>0</td>\n",
       "      <td>0</td>\n",
       "      <td>7500.0</td>\n",
       "      <td>2</td>\n",
       "      <td>2020</td>\n",
       "      <td>9750.0</td>\n",
       "      <td>2</td>\n",
       "      <td>1000.0</td>\n",
       "      <td>0</td>\n",
       "    </tr>\n",
       "    <tr>\n",
       "      <th>1</th>\n",
       "      <td>6</td>\n",
       "      <td>1017</td>\n",
       "      <td>2</td>\n",
       "      <td>0</td>\n",
       "      <td>10000.0</td>\n",
       "      <td>0</td>\n",
       "      <td>0</td>\n",
       "      <td>20000.0</td>\n",
       "      <td>4</td>\n",
       "      <td>2019</td>\n",
       "      <td>1500.0</td>\n",
       "      <td>2</td>\n",
       "      <td>1500.0</td>\n",
       "      <td>0</td>\n",
       "    </tr>\n",
       "    <tr>\n",
       "      <th>2</th>\n",
       "      <td>6</td>\n",
       "      <td>1016</td>\n",
       "      <td>2</td>\n",
       "      <td>0</td>\n",
       "      <td>10000.0</td>\n",
       "      <td>0</td>\n",
       "      <td>0</td>\n",
       "      <td>20000.0</td>\n",
       "      <td>4</td>\n",
       "      <td>2019</td>\n",
       "      <td>1500.0</td>\n",
       "      <td>2</td>\n",
       "      <td>1500.0</td>\n",
       "      <td>0</td>\n",
       "    </tr>\n",
       "    <tr>\n",
       "      <th>3</th>\n",
       "      <td>6</td>\n",
       "      <td>1018</td>\n",
       "      <td>2</td>\n",
       "      <td>0</td>\n",
       "      <td>10000.0</td>\n",
       "      <td>0</td>\n",
       "      <td>0</td>\n",
       "      <td>20000.0</td>\n",
       "      <td>4</td>\n",
       "      <td>2019</td>\n",
       "      <td>1500.0</td>\n",
       "      <td>2</td>\n",
       "      <td>1500.0</td>\n",
       "      <td>0</td>\n",
       "    </tr>\n",
       "    <tr>\n",
       "      <th>4</th>\n",
       "      <td>26</td>\n",
       "      <td>748</td>\n",
       "      <td>2</td>\n",
       "      <td>0</td>\n",
       "      <td>7000.0</td>\n",
       "      <td>1</td>\n",
       "      <td>1</td>\n",
       "      <td>7000.0</td>\n",
       "      <td>4</td>\n",
       "      <td>2019</td>\n",
       "      <td>0.0</td>\n",
       "      <td>5</td>\n",
       "      <td>0.0</td>\n",
       "      <td>0</td>\n",
       "    </tr>\n",
       "    <tr>\n",
       "      <th>...</th>\n",
       "      <td>...</td>\n",
       "      <td>...</td>\n",
       "      <td>...</td>\n",
       "      <td>...</td>\n",
       "      <td>...</td>\n",
       "      <td>...</td>\n",
       "      <td>...</td>\n",
       "      <td>...</td>\n",
       "      <td>...</td>\n",
       "      <td>...</td>\n",
       "      <td>...</td>\n",
       "      <td>...</td>\n",
       "      <td>...</td>\n",
       "      <td>...</td>\n",
       "    </tr>\n",
       "    <tr>\n",
       "      <th>3571</th>\n",
       "      <td>16</td>\n",
       "      <td>492</td>\n",
       "      <td>3</td>\n",
       "      <td>1</td>\n",
       "      <td>38950.0</td>\n",
       "      <td>1</td>\n",
       "      <td>1</td>\n",
       "      <td>38950.0</td>\n",
       "      <td>4</td>\n",
       "      <td>2019</td>\n",
       "      <td>0.0</td>\n",
       "      <td>5</td>\n",
       "      <td>0.0</td>\n",
       "      <td>0</td>\n",
       "    </tr>\n",
       "    <tr>\n",
       "      <th>3572</th>\n",
       "      <td>16</td>\n",
       "      <td>1011</td>\n",
       "      <td>3</td>\n",
       "      <td>1</td>\n",
       "      <td>38950.0</td>\n",
       "      <td>1</td>\n",
       "      <td>1</td>\n",
       "      <td>38950.0</td>\n",
       "      <td>4</td>\n",
       "      <td>2019</td>\n",
       "      <td>0.0</td>\n",
       "      <td>5</td>\n",
       "      <td>0.0</td>\n",
       "      <td>0</td>\n",
       "    </tr>\n",
       "    <tr>\n",
       "      <th>3573</th>\n",
       "      <td>16</td>\n",
       "      <td>1191</td>\n",
       "      <td>3</td>\n",
       "      <td>1</td>\n",
       "      <td>38950.0</td>\n",
       "      <td>1</td>\n",
       "      <td>1</td>\n",
       "      <td>38950.0</td>\n",
       "      <td>4</td>\n",
       "      <td>2019</td>\n",
       "      <td>0.0</td>\n",
       "      <td>5</td>\n",
       "      <td>0.0</td>\n",
       "      <td>0</td>\n",
       "    </tr>\n",
       "    <tr>\n",
       "      <th>3574</th>\n",
       "      <td>16</td>\n",
       "      <td>1143</td>\n",
       "      <td>3</td>\n",
       "      <td>1</td>\n",
       "      <td>38950.0</td>\n",
       "      <td>1</td>\n",
       "      <td>1</td>\n",
       "      <td>38950.0</td>\n",
       "      <td>4</td>\n",
       "      <td>2019</td>\n",
       "      <td>0.0</td>\n",
       "      <td>5</td>\n",
       "      <td>0.0</td>\n",
       "      <td>0</td>\n",
       "    </tr>\n",
       "    <tr>\n",
       "      <th>3575</th>\n",
       "      <td>16</td>\n",
       "      <td>1101</td>\n",
       "      <td>3</td>\n",
       "      <td>1</td>\n",
       "      <td>38950.0</td>\n",
       "      <td>1</td>\n",
       "      <td>1</td>\n",
       "      <td>38950.0</td>\n",
       "      <td>4</td>\n",
       "      <td>2019</td>\n",
       "      <td>0.0</td>\n",
       "      <td>5</td>\n",
       "      <td>0.0</td>\n",
       "      <td>0</td>\n",
       "    </tr>\n",
       "  </tbody>\n",
       "</table>\n",
       "<p>3576 rows × 14 columns</p>\n",
       "</div>"
      ],
      "text/plain": [
       "      university  major  level  language  tuition_covered  \\\n",
       "0             33   1135      2         1           7500.0   \n",
       "1              6   1017      2         0          10000.0   \n",
       "2              6   1016      2         0          10000.0   \n",
       "3              6   1018      2         0          10000.0   \n",
       "4             26    748      2         0           7000.0   \n",
       "...          ...    ...    ...       ...              ...   \n",
       "3571          16    492      3         1          38950.0   \n",
       "3572          16   1011      3         1          38950.0   \n",
       "3573          16   1191      3         1          38950.0   \n",
       "3574          16   1143      3         1          38950.0   \n",
       "3575          16   1101      3         1          38950.0   \n",
       "\n",
       "      accomodation_covered  living_expense_covered  original_tuition_fee  \\\n",
       "0                        0                       0                7500.0   \n",
       "1                        0                       0               20000.0   \n",
       "2                        0                       0               20000.0   \n",
       "3                        0                       0               20000.0   \n",
       "4                        1                       1                7000.0   \n",
       "...                    ...                     ...                   ...   \n",
       "3571                     1                       1               38950.0   \n",
       "3572                     1                       1               38950.0   \n",
       "3573                     1                       1               38950.0   \n",
       "3574                     1                       1               38950.0   \n",
       "3575                     1                       1               38950.0   \n",
       "\n",
       "      start_month  start_year  accomodation_to_pay  accomodation_duration  \\\n",
       "0               2        2020               9750.0                      2   \n",
       "1               4        2019               1500.0                      2   \n",
       "2               4        2019               1500.0                      2   \n",
       "3               4        2019               1500.0                      2   \n",
       "4               4        2019                  0.0                      5   \n",
       "...           ...         ...                  ...                    ...   \n",
       "3571            4        2019                  0.0                      5   \n",
       "3572            4        2019                  0.0                      5   \n",
       "3573            4        2019                  0.0                      5   \n",
       "3574            4        2019                  0.0                      5   \n",
       "3575            4        2019                  0.0                      5   \n",
       "\n",
       "      expense_to_pay  expense_duration  \n",
       "0             1000.0                 0  \n",
       "1             1500.0                 0  \n",
       "2             1500.0                 0  \n",
       "3             1500.0                 0  \n",
       "4                0.0                 0  \n",
       "...              ...               ...  \n",
       "3571             0.0                 0  \n",
       "3572             0.0                 0  \n",
       "3573             0.0                 0  \n",
       "3574             0.0                 0  \n",
       "3575             0.0                 0  \n",
       "\n",
       "[3576 rows x 14 columns]"
      ]
     },
     "execution_count": 20,
     "metadata": {},
     "output_type": "execute_result"
    }
   ],
   "source": [
    "# Let us use the LabelEncoder for the columns that are objects\n",
    "X1 = X.copy().drop(['school_id'], axis = 1)\n",
    "for col in obj_cols:\n",
    "    le = LabelEncoder()\n",
    "    X1[col] = le.fit_transform(X1[col])\n",
    "X1"
   ]
  },
  {
   "cell_type": "code",
   "execution_count": 21,
   "id": "24bb4776",
   "metadata": {},
   "outputs": [
    {
     "data": {
      "image/png": "[encoded data removed]",
      "text/plain": [
       "<Figure size 432x288 with 2 Axes>"
      ]
     },
     "metadata": {},
     "output_type": "display_data"
    }
   ],
   "source": [
    "# Let us see what our target looks like visually after a log transformation\n",
    "sns.set()\n",
    "y_transformed = pd.Series(np.log1p(y))\n",
    "\n",
    "fig, ax = plt.subplots(1, 2)\n",
    "sns.distplot(y, ax=ax[0])\n",
    "plt.title(\"Target after Log transformation\")\n",
    "# ax[0].axvline(y_transformed)\n",
    "sns.distplot(y_transformed, ax=ax[1])\n",
    "plt.show()"
   ]
  },
  {
   "cell_type": "code",
   "execution_count": 22,
   "id": "7abd2de8",
   "metadata": {},
   "outputs": [],
   "source": [
    "# We are splitting the test and train dataset we will do it for the normal values \n",
    "# and the transformed values \n",
    "xtrain, xtest, ytrain, ytest = train_test_split(X1, y)\n",
    "xtrain_t, xtest_t, ytrain_t, ytest_t = train_test_split(X1, y_transformed)"
   ]
  },
  {
   "cell_type": "code",
   "execution_count": 23,
   "id": "3af039b7",
   "metadata": {},
   "outputs": [
    {
     "data": {
      "text/plain": [
       "RandomForestRegressor()"
      ]
     },
     "execution_count": 23,
     "metadata": {},
     "output_type": "execute_result"
    }
   ],
   "source": [
    "# Let us import RandomForestRegressor to fit our data\n",
    "from sklearn.ensemble import RandomForestRegressor\n",
    "rf = RandomForestRegressor()\n",
    "rf1 = RandomForestRegressor()\n",
    "rf.fit(xtrain,ytrain)\n",
    "rf1.fit(xtrain_t, ytrain_t)"
   ]
  },
  {
   "cell_type": "code",
   "execution_count": 24,
   "id": "ed031a09",
   "metadata": {},
   "outputs": [
    {
     "name": "stdout",
     "output_type": "stream",
     "text": [
      "Mae Normal - 61.15296420581655\n",
      "Mae trans - 122.51220822990034\n"
     ]
    }
   ],
   "source": [
    "# Let us validate our model\n",
    "val = rf.predict(xtest)\n",
    "val2 = np.expm1(rf1.predict(xtest_t))\n",
    "print('Mae Normal -', mean_absolute_error(val, ytest))\n",
    "print('Mae trans -', mean_absolute_error(val2, np.expm1(ytest_t)))"
   ]
  },
  {
   "cell_type": "markdown",
   "id": "132121d9",
   "metadata": {},
   "source": [
    "APPLYING SCALER TO SEE IF IT IMPROVES ACCURACY AND REDUCES MAE"
   ]
  },
  {
   "cell_type": "code",
   "execution_count": 25,
   "id": "e1328885",
   "metadata": {},
   "outputs": [],
   "source": [
    "scaler = MinMaxScaler()\n",
    "X2 = scaler.fit_transform(X1)\n",
    "xtrain1, xtest1, ytrain1, ytest1 = train_test_split(X2, y)\n",
    "xtrain_t1, xtest_t1, ytrain_t1, ytest_t1 = train_test_split(X2, y_transformed)"
   ]
  },
  {
   "cell_type": "code",
   "execution_count": 26,
   "id": "343c4261",
   "metadata": {},
   "outputs": [
    {
     "data": {
      "text/plain": [
       "RandomForestRegressor()"
      ]
     },
     "execution_count": 26,
     "metadata": {},
     "output_type": "execute_result"
    }
   ],
   "source": [
    "rf2 = RandomForestRegressor()\n",
    "rf3 = RandomForestRegressor()\n",
    "rf2.fit(xtrain1, ytrain1)\n",
    "rf3.fit(xtrain_t1, ytrain_t1)"
   ]
  },
  {
   "cell_type": "code",
   "execution_count": 27,
   "id": "9d6b1e2b",
   "metadata": {},
   "outputs": [
    {
     "name": "stdout",
     "output_type": "stream",
     "text": [
      "Mae Normal - 30.916387024608504\n",
      "Mae trans - 109.84158168601292\n"
     ]
    }
   ],
   "source": [
    "val3 = rf2.predict(xtest1)\n",
    "val4 = np.expm1(rf3.predict(xtest_t1))\n",
    "print('Mae Normal -', mean_absolute_error(val3, ytest1))\n",
    "print('Mae trans -', mean_absolute_error(val4, np.expm1(ytest_t1)))"
   ]
  },
  {
   "cell_type": "markdown",
   "id": "6222e36a",
   "metadata": {},
   "source": [
    "USING DUMMIES TO SEE IF IT IMPROVES ACCURACY ALSO"
   ]
  },
  {
   "cell_type": "code",
   "execution_count": 28,
   "id": "4a1b44fe",
   "metadata": {},
   "outputs": [],
   "source": [
    "dummy_X = pd.get_dummies(X1, columns = obj_cols)\n",
    "xtrain2, xtest2, ytrain2, ytest2 = train_test_split(X2, y)\n",
    "xtrain_t2, xtest_t2, ytrain_t2, ytest_t2 = train_test_split(X2, y_transformed)"
   ]
  },
  {
   "cell_type": "code",
   "execution_count": 29,
   "id": "997f94dc",
   "metadata": {},
   "outputs": [
    {
     "data": {
      "text/plain": [
       "RandomForestRegressor()"
      ]
     },
     "execution_count": 29,
     "metadata": {},
     "output_type": "execute_result"
    }
   ],
   "source": [
    "rf4 = RandomForestRegressor()\n",
    "rf5 = RandomForestRegressor()\n",
    "rf4.fit(xtrain2, ytrain2)\n",
    "rf5.fit(xtrain_t2, ytrain_t2)"
   ]
  },
  {
   "cell_type": "code",
   "execution_count": 30,
   "id": "7de29863",
   "metadata": {},
   "outputs": [
    {
     "name": "stdout",
     "output_type": "stream",
     "text": [
      "Mae Normal - 52281.52147651007\n",
      "Mae trans - 50.101041115309265\n"
     ]
    }
   ],
   "source": [
    "val5 = rf4.predict(xtest)\n",
    "val6 = np.expm1(rf5.predict(xtest_t1))\n",
    "print('Mae Normal -', mean_absolute_error(val5, ytest1))\n",
    "print('Mae trans -', mean_absolute_error(val6, np.expm1(ytest_t1)))"
   ]
  }
 ],
 "metadata": {
  "kernelspec": {
   "display_name": "Python 3 (ipykernel)",
   "language": "python",
   "name": "python3"
  },
  "language_info": {
   "codemirror_mode": {
    "name": "ipython",
    "version": 3
   },
   "file_extension": ".py",
   "mimetype": "text/x-python",
   "name": "python",
   "nbconvert_exporter": "python",
   "pygments_lexer": "ipython3",
   "version": "3.9.7"
  }
 },
 "nbformat": 4,
 "nbformat_minor": 5
}
